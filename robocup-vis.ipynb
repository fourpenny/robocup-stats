{
 "cells": [
  {
   "cell_type": "markdown",
   "metadata": {},
   "source": [
    "# What's in our codebase?\n",
    "\n",
    "Robojackets is an organization that has been around more than 20 years, and Robocup has been one of the teams in Robojackets for almost 15 of those. In addition, members of the team are rarely able to stay in the organization for more than a couple of years because they graduate from the university. While leadership is generally passed down effectively, it rarely stays in the hands of the same members for an extended period of time. This can make it difficult to stay organized and keep consistent goals. With these facts in mind, I wanted to explore the main contribution of my subteam (software) and whether our progress as shown in the codebase's data actually aligns with our current goals."
   ]
  },
  {
   "cell_type": "code",
   "execution_count": 1,
   "metadata": {},
   "outputs": [],
   "source": [
    "import json\n",
    "import pandas as pd\n",
    "from collections import defaultdict\n",
    "import re\n",
    "import wordcloud\n",
    "import matplotlib.pyplot as plt"
   ]
  },
  {
   "cell_type": "markdown",
   "metadata": {},
   "source": [
    "## Examining the issues\n",
    "\n",
    "Goals and progress for a team working on the same project can be communicated in many ways. In programming, engineers who work on the same codebase often signal each other about what they are working on through creating issues and pull requests (a request to update the code base). Here we'll examine the most recent open issues in the codebase obtained through GitHub's API and saved as JSON data."
   ]
  },
  {
   "cell_type": "code",
   "execution_count": 2,
   "metadata": {},
   "outputs": [],
   "source": [
    "file_path = \"robocup-issues1.json\"\n",
    "issues_df = pd.read_json(file_path)"
   ]
  },
  {
   "cell_type": "markdown",
   "metadata": {},
   "source": [
    "We are examining the most recent 60 issues in this dataset. Some of these are also pull requests (but not all of them)."
   ]
  },
  {
   "cell_type": "code",
   "execution_count": 3,
   "metadata": {},
   "outputs": [
    {
     "data": {
      "text/plain": [
       "(60, 28)"
      ]
     },
     "execution_count": 3,
     "metadata": {},
     "output_type": "execute_result"
    }
   ],
   "source": [
    "issues_df.shape"
   ]
  },
  {
   "cell_type": "markdown",
   "metadata": {},
   "source": [
    "Here's some of the data contained in the JSON file. Some of this information, like the API url's, is not particular useful for our purposes."
   ]
  },
  {
   "cell_type": "code",
   "execution_count": 4,
   "metadata": {},
   "outputs": [
    {
     "data": {
      "text/html": [
       "<div>\n",
       "<style scoped>\n",
       "    .dataframe tbody tr th:only-of-type {\n",
       "        vertical-align: middle;\n",
       "    }\n",
       "\n",
       "    .dataframe tbody tr th {\n",
       "        vertical-align: top;\n",
       "    }\n",
       "\n",
       "    .dataframe thead th {\n",
       "        text-align: right;\n",
       "    }\n",
       "</style>\n",
       "<table border=\"1\" class=\"dataframe\">\n",
       "  <thead>\n",
       "    <tr style=\"text-align: right;\">\n",
       "      <th></th>\n",
       "      <th>url</th>\n",
       "      <th>repository_url</th>\n",
       "      <th>labels_url</th>\n",
       "      <th>comments_url</th>\n",
       "      <th>events_url</th>\n",
       "      <th>html_url</th>\n",
       "      <th>id</th>\n",
       "      <th>node_id</th>\n",
       "      <th>number</th>\n",
       "      <th>title</th>\n",
       "      <th>...</th>\n",
       "      <th>created_at</th>\n",
       "      <th>updated_at</th>\n",
       "      <th>closed_at</th>\n",
       "      <th>author_association</th>\n",
       "      <th>active_lock_reason</th>\n",
       "      <th>pull_request</th>\n",
       "      <th>body</th>\n",
       "      <th>reactions</th>\n",
       "      <th>timeline_url</th>\n",
       "      <th>performed_via_github_app</th>\n",
       "    </tr>\n",
       "  </thead>\n",
       "  <tbody>\n",
       "    <tr>\n",
       "      <th>0</th>\n",
       "      <td>https://api.github.com/repos/RoboJackets/roboc...</td>\n",
       "      <td>https://api.github.com/repos/RoboJackets/roboc...</td>\n",
       "      <td>https://api.github.com/repos/RoboJackets/roboc...</td>\n",
       "      <td>https://api.github.com/repos/RoboJackets/roboc...</td>\n",
       "      <td>https://api.github.com/repos/RoboJackets/roboc...</td>\n",
       "      <td>https://github.com/RoboJackets/robocup-softwar...</td>\n",
       "      <td>1042930255</td>\n",
       "      <td>PR_kwDOAO78Gc4uAiD9</td>\n",
       "      <td>1742</td>\n",
       "      <td>Two robots passing</td>\n",
       "      <td>...</td>\n",
       "      <td>2021-11-02 23:15:39+00:00</td>\n",
       "      <td>2021-11-02 23:15:39+00:00</td>\n",
       "      <td>NaT</td>\n",
       "      <td>CONTRIBUTOR</td>\n",
       "      <td>NaN</td>\n",
       "      <td>{'url': 'https://api.github.com/repos/RoboJack...</td>\n",
       "      <td>## Description\\r\\nbasic passing</td>\n",
       "      <td>{'url': 'https://api.github.com/repos/RoboJack...</td>\n",
       "      <td>https://api.github.com/repos/RoboJackets/roboc...</td>\n",
       "      <td>NaN</td>\n",
       "    </tr>\n",
       "    <tr>\n",
       "      <th>1</th>\n",
       "      <td>https://api.github.com/repos/RoboJackets/roboc...</td>\n",
       "      <td>https://api.github.com/repos/RoboJackets/roboc...</td>\n",
       "      <td>https://api.github.com/repos/RoboJackets/roboc...</td>\n",
       "      <td>https://api.github.com/repos/RoboJackets/roboc...</td>\n",
       "      <td>https://api.github.com/repos/RoboJackets/roboc...</td>\n",
       "      <td>https://github.com/RoboJackets/robocup-softwar...</td>\n",
       "      <td>1034582888</td>\n",
       "      <td>PR_kwDOAO78Gc4tmQXj</td>\n",
       "      <td>1741</td>\n",
       "      <td>foreach in all plays</td>\n",
       "      <td>...</td>\n",
       "      <td>2021-10-25 01:32:03+00:00</td>\n",
       "      <td>2021-11-02 03:02:40+00:00</td>\n",
       "      <td>NaT</td>\n",
       "      <td>CONTRIBUTOR</td>\n",
       "      <td>NaN</td>\n",
       "      <td>{'url': 'https://api.github.com/repos/RoboJack...</td>\n",
       "      <td>## Description\\r\\nReplaced repetitive statemen...</td>\n",
       "      <td>{'url': 'https://api.github.com/repos/RoboJack...</td>\n",
       "      <td>https://api.github.com/repos/RoboJackets/roboc...</td>\n",
       "      <td>NaN</td>\n",
       "    </tr>\n",
       "    <tr>\n",
       "      <th>2</th>\n",
       "      <td>https://api.github.com/repos/RoboJackets/roboc...</td>\n",
       "      <td>https://api.github.com/repos/RoboJackets/roboc...</td>\n",
       "      <td>https://api.github.com/repos/RoboJackets/roboc...</td>\n",
       "      <td>https://api.github.com/repos/RoboJackets/roboc...</td>\n",
       "      <td>https://api.github.com/repos/RoboJackets/roboc...</td>\n",
       "      <td>https://github.com/RoboJackets/robocup-softwar...</td>\n",
       "      <td>1030848119</td>\n",
       "      <td>PR_kwDOAO78Gc4taVNu</td>\n",
       "      <td>1739</td>\n",
       "      <td>Role stickiness</td>\n",
       "      <td>...</td>\n",
       "      <td>2021-10-20 00:21:02+00:00</td>\n",
       "      <td>2021-11-02 03:23:14+00:00</td>\n",
       "      <td>NaT</td>\n",
       "      <td>CONTRIBUTOR</td>\n",
       "      <td>NaN</td>\n",
       "      <td>{'url': 'https://api.github.com/repos/RoboJack...</td>\n",
       "      <td>## Description\\r\\nApplied role stickiness\\r\\n\\...</td>\n",
       "      <td>{'url': 'https://api.github.com/repos/RoboJack...</td>\n",
       "      <td>https://api.github.com/repos/RoboJackets/roboc...</td>\n",
       "      <td>NaN</td>\n",
       "    </tr>\n",
       "    <tr>\n",
       "      <th>3</th>\n",
       "      <td>https://api.github.com/repos/RoboJackets/roboc...</td>\n",
       "      <td>https://api.github.com/repos/RoboJackets/roboc...</td>\n",
       "      <td>https://api.github.com/repos/RoboJackets/roboc...</td>\n",
       "      <td>https://api.github.com/repos/RoboJackets/roboc...</td>\n",
       "      <td>https://api.github.com/repos/RoboJackets/roboc...</td>\n",
       "      <td>https://github.com/RoboJackets/robocup-softwar...</td>\n",
       "      <td>1030845227</td>\n",
       "      <td>PR_kwDOAO78Gc4taUmf</td>\n",
       "      <td>1738</td>\n",
       "      <td>working action, untested server</td>\n",
       "      <td>...</td>\n",
       "      <td>2021-10-20 00:14:30+00:00</td>\n",
       "      <td>2021-11-03 00:54:34+00:00</td>\n",
       "      <td>NaT</td>\n",
       "      <td>CONTRIBUTOR</td>\n",
       "      <td>NaN</td>\n",
       "      <td>{'url': 'https://api.github.com/repos/RoboJack...</td>\n",
       "      <td>temp again to see CI</td>\n",
       "      <td>{'url': 'https://api.github.com/repos/RoboJack...</td>\n",
       "      <td>https://api.github.com/repos/RoboJackets/roboc...</td>\n",
       "      <td>NaN</td>\n",
       "    </tr>\n",
       "    <tr>\n",
       "      <th>4</th>\n",
       "      <td>https://api.github.com/repos/RoboJackets/roboc...</td>\n",
       "      <td>https://api.github.com/repos/RoboJackets/roboc...</td>\n",
       "      <td>https://api.github.com/repos/RoboJackets/roboc...</td>\n",
       "      <td>https://api.github.com/repos/RoboJackets/roboc...</td>\n",
       "      <td>https://api.github.com/repos/RoboJackets/roboc...</td>\n",
       "      <td>https://github.com/RoboJackets/robocup-softwar...</td>\n",
       "      <td>1007534072</td>\n",
       "      <td>PR_kwDOAO78Gc4sSMjX</td>\n",
       "      <td>1733</td>\n",
       "      <td>Removed HML and replaced with arbitrary floats</td>\n",
       "      <td>...</td>\n",
       "      <td>2021-09-26 23:20:58+00:00</td>\n",
       "      <td>2021-11-01 00:39:28+00:00</td>\n",
       "      <td>NaT</td>\n",
       "      <td>NONE</td>\n",
       "      <td>NaN</td>\n",
       "      <td>{'url': 'https://api.github.com/repos/RoboJack...</td>\n",
       "      <td>Removed HML and replaced all uses of HML in ta...</td>\n",
       "      <td>{'url': 'https://api.github.com/repos/RoboJack...</td>\n",
       "      <td>https://api.github.com/repos/RoboJackets/roboc...</td>\n",
       "      <td>NaN</td>\n",
       "    </tr>\n",
       "  </tbody>\n",
       "</table>\n",
       "<p>5 rows × 28 columns</p>\n",
       "</div>"
      ],
      "text/plain": [
       "                                                 url  \\\n",
       "0  https://api.github.com/repos/RoboJackets/roboc...   \n",
       "1  https://api.github.com/repos/RoboJackets/roboc...   \n",
       "2  https://api.github.com/repos/RoboJackets/roboc...   \n",
       "3  https://api.github.com/repos/RoboJackets/roboc...   \n",
       "4  https://api.github.com/repos/RoboJackets/roboc...   \n",
       "\n",
       "                                      repository_url  \\\n",
       "0  https://api.github.com/repos/RoboJackets/roboc...   \n",
       "1  https://api.github.com/repos/RoboJackets/roboc...   \n",
       "2  https://api.github.com/repos/RoboJackets/roboc...   \n",
       "3  https://api.github.com/repos/RoboJackets/roboc...   \n",
       "4  https://api.github.com/repos/RoboJackets/roboc...   \n",
       "\n",
       "                                          labels_url  \\\n",
       "0  https://api.github.com/repos/RoboJackets/roboc...   \n",
       "1  https://api.github.com/repos/RoboJackets/roboc...   \n",
       "2  https://api.github.com/repos/RoboJackets/roboc...   \n",
       "3  https://api.github.com/repos/RoboJackets/roboc...   \n",
       "4  https://api.github.com/repos/RoboJackets/roboc...   \n",
       "\n",
       "                                        comments_url  \\\n",
       "0  https://api.github.com/repos/RoboJackets/roboc...   \n",
       "1  https://api.github.com/repos/RoboJackets/roboc...   \n",
       "2  https://api.github.com/repos/RoboJackets/roboc...   \n",
       "3  https://api.github.com/repos/RoboJackets/roboc...   \n",
       "4  https://api.github.com/repos/RoboJackets/roboc...   \n",
       "\n",
       "                                          events_url  \\\n",
       "0  https://api.github.com/repos/RoboJackets/roboc...   \n",
       "1  https://api.github.com/repos/RoboJackets/roboc...   \n",
       "2  https://api.github.com/repos/RoboJackets/roboc...   \n",
       "3  https://api.github.com/repos/RoboJackets/roboc...   \n",
       "4  https://api.github.com/repos/RoboJackets/roboc...   \n",
       "\n",
       "                                            html_url          id  \\\n",
       "0  https://github.com/RoboJackets/robocup-softwar...  1042930255   \n",
       "1  https://github.com/RoboJackets/robocup-softwar...  1034582888   \n",
       "2  https://github.com/RoboJackets/robocup-softwar...  1030848119   \n",
       "3  https://github.com/RoboJackets/robocup-softwar...  1030845227   \n",
       "4  https://github.com/RoboJackets/robocup-softwar...  1007534072   \n",
       "\n",
       "               node_id  number  \\\n",
       "0  PR_kwDOAO78Gc4uAiD9    1742   \n",
       "1  PR_kwDOAO78Gc4tmQXj    1741   \n",
       "2  PR_kwDOAO78Gc4taVNu    1739   \n",
       "3  PR_kwDOAO78Gc4taUmf    1738   \n",
       "4  PR_kwDOAO78Gc4sSMjX    1733   \n",
       "\n",
       "                                            title  ...  \\\n",
       "0                              Two robots passing  ...   \n",
       "1                            foreach in all plays  ...   \n",
       "2                                 Role stickiness  ...   \n",
       "3                 working action, untested server  ...   \n",
       "4  Removed HML and replaced with arbitrary floats  ...   \n",
       "\n",
       "                 created_at                updated_at closed_at  \\\n",
       "0 2021-11-02 23:15:39+00:00 2021-11-02 23:15:39+00:00       NaT   \n",
       "1 2021-10-25 01:32:03+00:00 2021-11-02 03:02:40+00:00       NaT   \n",
       "2 2021-10-20 00:21:02+00:00 2021-11-02 03:23:14+00:00       NaT   \n",
       "3 2021-10-20 00:14:30+00:00 2021-11-03 00:54:34+00:00       NaT   \n",
       "4 2021-09-26 23:20:58+00:00 2021-11-01 00:39:28+00:00       NaT   \n",
       "\n",
       "   author_association active_lock_reason  \\\n",
       "0         CONTRIBUTOR                NaN   \n",
       "1         CONTRIBUTOR                NaN   \n",
       "2         CONTRIBUTOR                NaN   \n",
       "3         CONTRIBUTOR                NaN   \n",
       "4                NONE                NaN   \n",
       "\n",
       "                                        pull_request  \\\n",
       "0  {'url': 'https://api.github.com/repos/RoboJack...   \n",
       "1  {'url': 'https://api.github.com/repos/RoboJack...   \n",
       "2  {'url': 'https://api.github.com/repos/RoboJack...   \n",
       "3  {'url': 'https://api.github.com/repos/RoboJack...   \n",
       "4  {'url': 'https://api.github.com/repos/RoboJack...   \n",
       "\n",
       "                                                body  \\\n",
       "0                    ## Description\\r\\nbasic passing   \n",
       "1  ## Description\\r\\nReplaced repetitive statemen...   \n",
       "2  ## Description\\r\\nApplied role stickiness\\r\\n\\...   \n",
       "3                               temp again to see CI   \n",
       "4  Removed HML and replaced all uses of HML in ta...   \n",
       "\n",
       "                                           reactions  \\\n",
       "0  {'url': 'https://api.github.com/repos/RoboJack...   \n",
       "1  {'url': 'https://api.github.com/repos/RoboJack...   \n",
       "2  {'url': 'https://api.github.com/repos/RoboJack...   \n",
       "3  {'url': 'https://api.github.com/repos/RoboJack...   \n",
       "4  {'url': 'https://api.github.com/repos/RoboJack...   \n",
       "\n",
       "                                        timeline_url performed_via_github_app  \n",
       "0  https://api.github.com/repos/RoboJackets/roboc...                      NaN  \n",
       "1  https://api.github.com/repos/RoboJackets/roboc...                      NaN  \n",
       "2  https://api.github.com/repos/RoboJackets/roboc...                      NaN  \n",
       "3  https://api.github.com/repos/RoboJackets/roboc...                      NaN  \n",
       "4  https://api.github.com/repos/RoboJackets/roboc...                      NaN  \n",
       "\n",
       "[5 rows x 28 columns]"
      ]
     },
     "execution_count": 4,
     "metadata": {},
     "output_type": "execute_result"
    }
   ],
   "source": [
    "issues_df.head()"
   ]
  },
  {
   "cell_type": "code",
   "execution_count": 5,
   "metadata": {},
   "outputs": [],
   "source": [
    "issues_df = issues_df.drop(columns=[\"url\",\"repository_url\",\"labels_url\",\"comments_url\",\"events_url\",\"html_url\"])"
   ]
  },
  {
   "cell_type": "markdown",
   "metadata": {},
   "source": [
    "To get an idea of what topics are most commonly addressed in these issues, we will be counting the mentions of specific terms, then visualizing their frequency."
   ]
  },
  {
   "cell_type": "code",
   "execution_count": 6,
   "metadata": {},
   "outputs": [],
   "source": [
    "word_counts_dict = defaultdict(int)"
   ]
  },
  {
   "cell_type": "code",
   "execution_count": 7,
   "metadata": {},
   "outputs": [],
   "source": [
    "def get_word_counts(text, word_count_dict=word_counts_dict):\n",
    "    split_words = text.split(\" \")\n",
    "    #regex below makes sure to remove the \\n characters where applicable (first capture group)\n",
    "    clean_re = re.compile('''\\\\n*([\\w]{2,})|([\\w]{2,})''')\n",
    "    matches = re.findall(clean_re, text)\n",
    "    for match in matches:\n",
    "        word_count_dict[match[0].lower()] += 1\n",
    "    return"
   ]
  },
  {
   "cell_type": "code",
   "execution_count": 8,
   "metadata": {},
   "outputs": [],
   "source": [
    "%%capture\n",
    "issues_df[\"title\"].apply(get_word_counts)\n",
    "issues_df[\"body\"].apply(get_word_counts)"
   ]
  },
  {
   "cell_type": "code",
   "execution_count": 9,
   "metadata": {},
   "outputs": [],
   "source": [
    "multiple_counts = {word: word_counts_dict[word] for word in word_counts_dict if word_counts_dict[word] >= 2}"
   ]
  },
  {
   "cell_type": "code",
   "execution_count": 10,
   "metadata": {},
   "outputs": [
    {
     "name": "stdout",
     "output_type": "stream",
     "text": [
      "There are 25838 total words in these issues.\n"
     ]
    }
   ],
   "source": [
    "words_for_cloud = \" \".join(title for title in issues_df.title) + \" \" + \" \".join(body for body in issues_df.body)\n",
    "print (\"There are {} total words in these issues.\".format(len(words_for_cloud)))"
   ]
  },
  {
   "cell_type": "markdown",
   "metadata": {},
   "source": [
    "First, we'll visualize these in a word cloud, with the largest words representing the most frequently seen terms. I took out some words, like urls that linked to specific sections of code and the term \"Description\" that appeared in the body of almost every issue when formatted according to team specs."
   ]
  },
  {
   "cell_type": "code",
   "execution_count": 11,
   "metadata": {},
   "outputs": [],
   "source": [
    "stopwords = wordcloud.STOPWORDS\n",
    "dont_use = [\"https\",\"github\",\"software\",\"RoboJackets\",\"robocup\",\"will\",\"Description\", \"description\", \"robojackets\",\"TODO\",\"todo\",\"issue\"]\n",
    "stopwords.update(dont_use)\n",
    "wordcloud = wordcloud.WordCloud(background_color=\"white\", stopwords=stopwords).generate(words_for_cloud)"
   ]
  },
  {
   "cell_type": "code",
   "execution_count": 12,
   "metadata": {},
   "outputs": [
    {
     "data": {
      "image/png": "[encoded data removed]",
      "text/plain": [
       "<Figure size 504x504 with 1 Axes>"
      ]
     },
     "metadata": {
      "needs_background": "light"
     },
     "output_type": "display_data"
    }
   ],
   "source": [
    "plt.figure(figsize=[7,7])\n",
    "plt.axis(\"off\")\n",
    "plt.imshow(wordcloud, interpolation=\"bilinear\")\n",
    "plt.savefig(\"issues_cloud.png\",format=\"png\")\n",
    "plt.show()"
   ]
  },
  {
   "cell_type": "markdown",
   "metadata": {},
   "source": [
    "If we simply want to see this frequency with actual numbers, here are the same results represented with a bar chart. Many of these words are seen only a few times but, our total number of issues examined in the data set is only 60. Seeing a word merely twice would mean it potentially occurs in nearly 5% of issues (assuming each word is only seen once in each issue). As before, some common words like \"in\", \"at\", \"Robojackets\", ect. are not included because they are not particularly useful to examine."
   ]
  },
  {
   "cell_type": "code",
   "execution_count": 13,
   "metadata": {},
   "outputs": [],
   "source": [
    "#stopwords\n",
    "multiple_counts = {word: multiple_counts[word] for word in multiple_counts if word not in stopwords}\n",
    "#let's look at top 15 only\n",
    "word_count = pd.Series(multiple_counts)\n",
    "word_count = word_count.sort_values(ascending=False)"
   ]
  },
  {
   "cell_type": "code",
   "execution_count": 15,
   "metadata": {},
   "outputs": [
    {
     "data": {
      "image/png": "[encoded data removed]",
      "text/plain": [
       "<Figure size 1296x576 with 1 Axes>"
      ]
     },
     "metadata": {
      "needs_background": "light"
     },
     "output_type": "display_data"
    }
   ],
   "source": [
    "plt.figure(figsize=[18,8])\n",
    "plt.bar(word_count[0:19].index, word_count[0:19])\n",
    "plt.ylabel(\"Number of Issues\")\n",
    "plt.xlabel(\"Keyword\")\n",
    "plt.title(\"Issues for given keywords\")\n",
    "plt.show()"
   ]
  },
  {
   "cell_type": "markdown",
   "metadata": {},
   "source": [
    "It may seem obvious for a robot soccer team to have the word \"soccer\" as the top occurring term! But in this case, the software that connects with the referee computers and gives the behavioral instructions to the teams' robots is in a folder/module called \"soccer\".\n",
    "\n",
    "\"Parameters\", \"parameter\", and \"params\" are also three common terms. If the numbers of these are combined, they would exceed any of the other keywords by a large margin. The C++ library used Robojackets for communication between many of the subsystems in the robot, ROS (another common keyword), allows users to send parameters to change robot behaviors on the fly. Implementing these in a way where the team can use them effectively during matches or testing is probably a priority.\n",
    "\n",
    "\"Blob\" is used to link users to areas within the code repository and does not refer to any specific function/goal of the team. Similarly, \"cpp\" simply refers to the language used for much of the codebase.\n",
    "\n",
    "Finally, many words related to gameplay implementation also occur frequently. These include \"ball\", \"kick\", and \"pass\". Because the team has been internally frequently discussing the construction of tactics (which can be read about in more detail on the [software wiki](https://robojackets.github.io/robocup-software/md_doc__gameplay.html)), it is good that the occurrances of issues in the software repository are in line with this priority."
   ]
  },
  {
   "cell_type": "code",
   "execution_count": 16,
   "metadata": {},
   "outputs": [
    {
     "data": {
      "text/plain": [
       "Index(['id', 'node_id', 'number', 'title', 'user', 'labels', 'state', 'locked',\n",
       "       'assignee', 'assignees', 'milestone', 'comments', 'created_at',\n",
       "       'updated_at', 'closed_at', 'author_association', 'active_lock_reason',\n",
       "       'pull_request', 'body', 'reactions', 'timeline_url',\n",
       "       'performed_via_github_app'],\n",
       "      dtype='object')"
      ]
     },
     "execution_count": 16,
     "metadata": {},
     "output_type": "execute_result"
    }
   ],
   "source": [
    "issues_df.columns"
   ]
  },
  {
   "cell_type": "markdown",
   "metadata": {},
   "source": [
    "## Checking our Priorities"
   ]
  },
  {
   "cell_type": "code",
   "execution_count": 17,
   "metadata": {},
   "outputs": [],
   "source": [
    "labels_dict = {}\n",
    "\n",
    "for i in range(len(issues_df['labels'])):\n",
    "    if len(issues_df['labels'].iloc[i]) > 0:\n",
    "        labels_dict[i] = issues_df['labels'].iloc[i]"
   ]
  },
  {
   "cell_type": "code",
   "execution_count": 32,
   "metadata": {},
   "outputs": [],
   "source": [
    "#print(list(labels_dict.keys()))\n",
    "flag_names = []\n",
    "flag_dict_keys = []\n",
    "for key in labels_dict.keys():\n",
    "    for label in labels_dict[key]:\n",
    "        flag_names.append(label['name'])\n",
    "        flag_dict_keys.append(key)\n",
    "\n",
    "unique_flags = set(flag_names)\n",
    "unique_flags = list(unique_flags)"
   ]
  },
  {
   "cell_type": "code",
   "execution_count": 44,
   "metadata": {},
   "outputs": [],
   "source": [
    "flags_dict = defaultdict(list)\n",
    "for i in range(0, len(flag_dict_keys)):\n",
    "    flags_dict[flag_dict_keys[i]].append(flag_names[i])"
   ]
  },
  {
   "cell_type": "code",
   "execution_count": 39,
   "metadata": {},
   "outputs": [],
   "source": [
    "flag_df_dict = defaultdict(list)\n",
    "\n",
    "for flag in unique_flags:\n",
    "    for i in range(0, max(flag_dict_keys)+1):\n",
    "        if flag in flags_dict[i]:\n",
    "            flag_df_dict[flag].append(1)\n",
    "        else:\n",
    "            flag_df_dict[flag].append(0)\n",
    "\n",
    "flag_df_dict = dict(flag_df_dict)"
   ]
  },
  {
   "cell_type": "code",
   "execution_count": 40,
   "metadata": {},
   "outputs": [],
   "source": [
    "flags_df = pd.DataFrame.from_dict(flag_df_dict)"
   ]
  },
  {
   "cell_type": "code",
   "execution_count": 43,
   "metadata": {},
   "outputs": [
    {
     "data": {
      "text/html": [
       "<div>\n",
       "<style scoped>\n",
       "    .dataframe tbody tr th:only-of-type {\n",
       "        vertical-align: middle;\n",
       "    }\n",
       "\n",
       "    .dataframe tbody tr th {\n",
       "        vertical-align: top;\n",
       "    }\n",
       "\n",
       "    .dataframe thead th {\n",
       "        text-align: right;\n",
       "    }\n",
       "</style>\n",
       "<table border=\"1\" class=\"dataframe\">\n",
       "  <thead>\n",
       "    <tr style=\"text-align: right;\">\n",
       "      <th></th>\n",
       "      <th>status / need-triage</th>\n",
       "      <th>area / soccer</th>\n",
       "      <th>exp / novice (1)</th>\n",
       "      <th>priority / high</th>\n",
       "      <th>Epic</th>\n",
       "      <th>priority / low</th>\n",
       "      <th>area / support</th>\n",
       "      <th>exp / master (4)</th>\n",
       "      <th>exp / new-member-project</th>\n",
       "      <th>type / new feature</th>\n",
       "      <th>type / bug</th>\n",
       "      <th>pull request todo</th>\n",
       "      <th>status / new</th>\n",
       "    </tr>\n",
       "  </thead>\n",
       "  <tbody>\n",
       "    <tr>\n",
       "      <th>10</th>\n",
       "      <td>1</td>\n",
       "      <td>0</td>\n",
       "      <td>0</td>\n",
       "      <td>0</td>\n",
       "      <td>0</td>\n",
       "      <td>0</td>\n",
       "      <td>0</td>\n",
       "      <td>0</td>\n",
       "      <td>0</td>\n",
       "      <td>1</td>\n",
       "      <td>0</td>\n",
       "      <td>0</td>\n",
       "      <td>1</td>\n",
       "    </tr>\n",
       "    <tr>\n",
       "      <th>11</th>\n",
       "      <td>0</td>\n",
       "      <td>0</td>\n",
       "      <td>1</td>\n",
       "      <td>0</td>\n",
       "      <td>0</td>\n",
       "      <td>1</td>\n",
       "      <td>0</td>\n",
       "      <td>0</td>\n",
       "      <td>0</td>\n",
       "      <td>0</td>\n",
       "      <td>0</td>\n",
       "      <td>1</td>\n",
       "      <td>0</td>\n",
       "    </tr>\n",
       "    <tr>\n",
       "      <th>12</th>\n",
       "      <td>0</td>\n",
       "      <td>0</td>\n",
       "      <td>1</td>\n",
       "      <td>0</td>\n",
       "      <td>0</td>\n",
       "      <td>1</td>\n",
       "      <td>0</td>\n",
       "      <td>0</td>\n",
       "      <td>0</td>\n",
       "      <td>0</td>\n",
       "      <td>0</td>\n",
       "      <td>1</td>\n",
       "      <td>0</td>\n",
       "    </tr>\n",
       "    <tr>\n",
       "      <th>13</th>\n",
       "      <td>0</td>\n",
       "      <td>0</td>\n",
       "      <td>1</td>\n",
       "      <td>0</td>\n",
       "      <td>0</td>\n",
       "      <td>1</td>\n",
       "      <td>0</td>\n",
       "      <td>0</td>\n",
       "      <td>0</td>\n",
       "      <td>0</td>\n",
       "      <td>0</td>\n",
       "      <td>1</td>\n",
       "      <td>0</td>\n",
       "    </tr>\n",
       "    <tr>\n",
       "      <th>14</th>\n",
       "      <td>0</td>\n",
       "      <td>0</td>\n",
       "      <td>1</td>\n",
       "      <td>0</td>\n",
       "      <td>0</td>\n",
       "      <td>1</td>\n",
       "      <td>0</td>\n",
       "      <td>0</td>\n",
       "      <td>0</td>\n",
       "      <td>0</td>\n",
       "      <td>0</td>\n",
       "      <td>1</td>\n",
       "      <td>0</td>\n",
       "    </tr>\n",
       "  </tbody>\n",
       "</table>\n",
       "</div>"
      ],
      "text/plain": [
       "    status / need-triage  area / soccer  exp / novice (1)  priority / high  \\\n",
       "10                     1              0                 0                0   \n",
       "11                     0              0                 1                0   \n",
       "12                     0              0                 1                0   \n",
       "13                     0              0                 1                0   \n",
       "14                     0              0                 1                0   \n",
       "\n",
       "    Epic  priority / low  area / support  exp / master (4)  \\\n",
       "10     0               0               0                 0   \n",
       "11     0               1               0                 0   \n",
       "12     0               1               0                 0   \n",
       "13     0               1               0                 0   \n",
       "14     0               1               0                 0   \n",
       "\n",
       "    exp / new-member-project  type / new feature  type / bug  \\\n",
       "10                         0                   1           0   \n",
       "11                         0                   0           0   \n",
       "12                         0                   0           0   \n",
       "13                         0                   0           0   \n",
       "14                         0                   0           0   \n",
       "\n",
       "    pull request todo  status / new  \n",
       "10                  0             1  \n",
       "11                  1             0  \n",
       "12                  1             0  \n",
       "13                  1             0  \n",
       "14                  1             0  "
      ]
     },
     "execution_count": 43,
     "metadata": {},
     "output_type": "execute_result"
    }
   ],
   "source": [
    "flags_df.iloc[10:15]"
   ]
  },
  {
   "cell_type": "code",
   "execution_count": 45,
   "metadata": {},
   "outputs": [],
   "source": [
    "#make a bar graph visualizing the flag counts\n",
    "#do we have a lot of issues that beginners can work on? what about challenging projects for experienced members?\n",
    "#how does this compare to the make up of the team?\n",
    "#want to do: see which words occur most often with which flags - probably do the other way around:\n",
    "#see which words occur for each flag and how frequently. basically do word count dicts for each flag\n",
    "#or maybe just the high priority flags :)"
   ]
  },
  {
   "cell_type": "code",
   "execution_count": null,
   "metadata": {},
   "outputs": [],
   "source": []
  }
 ],
 "metadata": {
  "kernelspec": {
   "display_name": "Python 3",
   "language": "python",
   "name": "python3"
  },
  "language_info": {
   "codemirror_mode": {
    "name": "ipython",
    "version": 3
   },
   "file_extension": ".py",
   "mimetype": "text/x-python",
   "name": "python",
   "nbconvert_exporter": "python",
   "pygments_lexer": "ipython3",
   "version": "3.8.8"
  }
 },
 "nbformat": 4,
 "nbformat_minor": 4
}
